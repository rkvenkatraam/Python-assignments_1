{
 "cells": [
  {
   "cell_type": "code",
   "execution_count": 1,
   "id": "140a5eb8",
   "metadata": {},
   "outputs": [],
   "source": [
    "num1=10\n",
    "num2=20\n",
    "add=num1+num2"
   ]
  },
  {
   "cell_type": "code",
   "execution_count": 8,
   "id": "6052f7bd",
   "metadata": {},
   "outputs": [
    {
     "name": "stdout",
     "output_type": "stream",
     "text": [
      "add\n",
      "35\n",
      "SUM = 35\n"
     ]
    }
   ],
   "source": [
    "num1=10\n",
    "num2=25\n",
    "add=num1+num2\n",
    "\n",
    "print(\"add\")\n",
    "print(add)\n",
    "print(\"SUM =\", add)"
   ]
  },
  {
   "cell_type": "code",
   "execution_count": 1,
   "id": "f38e2537",
   "metadata": {},
   "outputs": [
    {
     "name": "stdout",
     "output_type": "stream",
     "text": [
      "Sum of two numbers\n",
      "First Number : 10\n",
      "Second Number : 30\n",
      "The sum of two numbers : 40\n"
     ]
    }
   ],
   "source": [
    "num1 = 10\n",
    "num2 = 30\n",
    "add = num1+num2\n",
    "print (\"Sum of two numbers\")\n",
    "print (\"First Number :\", num1)\n",
    "print (\"Second Number :\", num2)\n",
    "print (\"The sum of two numbers :\", add)"
   ]
  },
  {
   "cell_type": "code",
   "execution_count": 11,
   "id": "6e54812e",
   "metadata": {},
   "outputs": [
    {
     "name": "stdout",
     "output_type": "stream",
     "text": [
      "Enter the first number :25\n"
     ]
    }
   ],
   "source": [
    "num1 = int(input(\"Enter the first number :\"))"
   ]
  },
  {
   "cell_type": "code",
   "execution_count": 15,
   "id": "76ddf2c8",
   "metadata": {},
   "outputs": [
    {
     "name": "stdout",
     "output_type": "stream",
     "text": [
      "Enter the second number :55\n"
     ]
    }
   ],
   "source": [
    "num2 = int(input(\"Enter the second number :\"))"
   ]
  },
  {
   "cell_type": "code",
   "execution_count": 17,
   "id": "9c3b75c5",
   "metadata": {},
   "outputs": [
    {
     "name": "stdout",
     "output_type": "stream",
     "text": [
      "sum of two inputs : 80\n"
     ]
    }
   ],
   "source": [
    "sum = num1 + num2\n",
    "print('sum of two inputs :', sum)"
   ]
  },
  {
   "cell_type": "code",
   "execution_count": null,
   "id": "81cb5092",
   "metadata": {},
   "outputs": [],
   "source": []
  }
 ],
 "metadata": {
  "kernelspec": {
   "display_name": "Python 3 (ipykernel)",
   "language": "python",
   "name": "python3"
  },
  "language_info": {
   "codemirror_mode": {
    "name": "ipython",
    "version": 3
   },
   "file_extension": ".py",
   "mimetype": "text/x-python",
   "name": "python",
   "nbconvert_exporter": "python",
   "pygments_lexer": "ipython3",
   "version": "3.11.5"
  }
 },
 "nbformat": 4,
 "nbformat_minor": 5
}
