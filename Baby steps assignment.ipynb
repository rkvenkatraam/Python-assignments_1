{
 "cells": [
  {
   "cell_type": "code",
   "execution_count": null,
   "id": "3f8dd9bf",
   "metadata": {},
   "outputs": [],
   "source": [
    "print (\"Welcome to Assignment Baby steps\")"
   ]
  },
  {
   "cell_type": "code",
   "execution_count": null,
   "id": "60c0322f",
   "metadata": {},
   "outputs": [],
   "source": [
    "num1 = int (input(\"Enter num1 = \"))\n",
    "num2 = int (input(\"Enter num2 = \"))\n",
    "Add = num1 + num2\n",
    "print (\"num1 = \",num1)\n",
    "print (\"num2 = \",num2)\n",
    "print (\"Add = \",Add)"
   ]
  },
  {
   "cell_type": "code",
   "execution_count": 18,
   "id": "14b55aba",
   "metadata": {},
   "outputs": [
    {
     "name": "stdout",
     "output_type": "stream",
     "text": [
      "Enter your Age = 46\n",
      "Enter your Height in mts= 1.75\n",
      "Enter your Weight in kgs= 82\n",
      "Your BMI is 26.78 and you are Heavy Weight for your age\n"
     ]
    }
   ],
   "source": [
    "Age = int(input(\"Enter your Age = \"))\n",
    "Height = float(input(\"Enter your Height in mts= \"))\n",
    "Weight = float(input(\"Enter your Weight in kgs= \"))\n",
    "HeightSquare = Height*Height\n",
    "BMI = round (Weight/HeightSquare,2)\n",
    "if (BMI<18.5):\n",
    "    print(\"Your BMI is\", BMI, \"and you are Under weight for your age \")\n",
    "elif (BMI<25):\n",
    "    print(\"Your BMI is\", BMI, \"and you are Normal weight for your age \")\n",
    "elif (BMI<30):\n",
    "    print(\"Your BMI is\", BMI, \"and you are Heavy Weight for your age\")\n",
    "elif (BMI<35):\n",
    "    print(\"Your BMI is\", BMI, \"and you are Obesity class 2 for your age\")\n",
    "elif (BMI<40):\n",
    "    print(\"Your BMI is\", BMI, \"and you are Obesity class 1 for your age\")\n",
    "else:\n",
    "    print(\"Your BMI is\", BMI, \"and you are Obesity class 3 for your age\")"
   ]
  },
  {
   "cell_type": "code",
   "execution_count": null,
   "id": "3444f376",
   "metadata": {},
   "outputs": [],
   "source": []
  },
  {
   "cell_type": "code",
   "execution_count": null,
   "id": "9152d212",
   "metadata": {},
   "outputs": [],
   "source": []
  }
 ],
 "metadata": {
  "kernelspec": {
   "display_name": "Python 3 (ipykernel)",
   "language": "python",
   "name": "python3"
  },
  "language_info": {
   "codemirror_mode": {
    "name": "ipython",
    "version": 3
   },
   "file_extension": ".py",
   "mimetype": "text/x-python",
   "name": "python",
   "nbconvert_exporter": "python",
   "pygments_lexer": "ipython3",
   "version": "3.11.5"
  }
 },
 "nbformat": 4,
 "nbformat_minor": 5
}
