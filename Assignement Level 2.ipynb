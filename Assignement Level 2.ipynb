{
 "cells": [
  {
   "cell_type": "code",
   "execution_count": 108,
   "id": "a4f41e6f",
   "metadata": {},
   "outputs": [
    {
     "name": "stdout",
     "output_type": "stream",
     "text": [
      "0\n",
      "3\n",
      "6\n",
      "9\n",
      "12\n",
      "15\n",
      "18\n"
     ]
    }
   ],
   "source": [
    "for num in range(0,20):\n",
    "    print(num)"
   ]
  },
  {
   "cell_type": "code",
   "execution_count": 1,
   "id": "5844a28c",
   "metadata": {},
   "outputs": [
    {
     "name": "stdout",
     "output_type": "stream",
     "text": [
      "10\n",
      "11\n",
      "12\n",
      "13\n",
      "14\n",
      "15\n",
      "16\n",
      "17\n",
      "18\n",
      "19\n"
     ]
    }
   ],
   "source": [
    "for num in range(10,20):\n",
    "    print(num,end = ' ')\n",
    "    #print(num)"
   ]
  },
  {
   "cell_type": "code",
   "execution_count": 100,
   "id": "d70fe2b0",
   "metadata": {},
   "outputs": [
    {
     "name": "stdout",
     "output_type": "stream",
     "text": [
      "[10, 20, 30, 40, 50, 60, 70]\n",
      "Number of items = \n",
      "7\n"
     ]
    }
   ],
   "source": [
    "lists = [10,20,30,40,50,60,70]\n",
    "#for num in lists:\n",
    "    #print(num, end = ' ') in lists\n",
    "print(lists)\n",
    "#print(\"\\n\")\n",
    "#print(\"Number of items = \", len(lists))\n",
    "print(\"Number of items = \")\n",
    "print(len(lists))"
   ]
  },
  {
   "cell_type": "code",
   "execution_count": 105,
   "id": "d0daf700",
   "metadata": {},
   "outputs": [
    {
     "name": "stdout",
     "output_type": "stream",
     "text": [
      "ARTIFICIAL INTELLIGENCE\n",
      "A\n",
      "R\n",
      "T\n",
      "I\n",
      "F\n",
      "I\n",
      "C\n",
      "I\n",
      "A\n",
      "L\n",
      " \n",
      "I\n",
      "N\n",
      "T\n",
      "E\n",
      "L\n",
      "L\n",
      "I\n",
      "G\n",
      "E\n",
      "N\n",
      "C\n",
      "E\n"
     ]
    }
   ],
   "source": [
    "Course = \"ARTIFICIAL INTELLIGENCE\"\n",
    "print (Course)\n",
    "for temp in Course:\n",
    "    print (temp)\n",
    "#splitlines(Course)"
   ]
  },
  {
   "cell_type": "code",
   "execution_count": 76,
   "id": "abfa8e3a",
   "metadata": {},
   "outputs": [
    {
     "name": "stdout",
     "output_type": "stream",
     "text": [
      "-Your Name- \n",
      "-Your Age- \n",
      "-Your Profession-\n"
     ]
    }
   ],
   "source": [
    "print (\"-Your Name-\",\"\\n\" \"-Your Age-\", \"\\n\" \"-Your Profession-\")"
   ]
  },
  {
   "cell_type": "code",
   "execution_count": 109,
   "id": "a941eae7",
   "metadata": {},
   "outputs": [
    {
     "name": "stdout",
     "output_type": "stream",
     "text": [
      "(1, 'welcome', 2, 'Hope')\n"
     ]
    }
   ],
   "source": [
    "tuple = (1,'welcome',2,'Hope')\n",
    "print (tuple)"
   ]
  },
  {
   "cell_type": "code",
   "execution_count": 110,
   "id": "773b44d6",
   "metadata": {},
   "outputs": [
    {
     "name": "stdout",
     "output_type": "stream",
     "text": [
      "((0, 1, 2, 3), ('python', 'Hope'))\n"
     ]
    }
   ],
   "source": [
    "tuple1 = (0,1,2,3)\n",
    "tuple2 = ('python','Hope')\n",
    "tuple3 = (tuple1, tuple2)\n",
    "print(tuple3)"
   ]
  },
  {
   "cell_type": "code",
   "execution_count": 103,
   "id": "19697621",
   "metadata": {},
   "outputs": [
    {
     "name": "stdout",
     "output_type": "stream",
     "text": [
      "[1, 2, 3, 4, 5, 6, 7, 8]\n",
      "2 is an even number\n",
      "4 is an even number\n",
      "6 is an even number\n",
      "8 is an even number\n"
     ]
    }
   ],
   "source": [
    "lists = [1,2,3,4,5,6,7,8]\n",
    "print(lists)\n",
    "for num in lists:\n",
    "    if ((num%2)==0):\n",
    "        print (num, \"is an even number\")\n",
    "    #else\n",
    "        #print (num, \"is an odd number\")\n",
    "  "
   ]
  },
  {
   "cell_type": "code",
   "execution_count": 107,
   "id": "9b7ac7ba",
   "metadata": {},
   "outputs": [
    {
     "name": "stdout",
     "output_type": "stream",
     "text": [
      "[1, 2, 3, 4, 5, 6, 7, 8]\n",
      "1 is an odd number\n",
      "3 is an odd number\n",
      "5 is an odd number\n",
      "7 is an odd number\n"
     ]
    }
   ],
   "source": [
    "lists = [1,2,3,4,5,6,7,8]\n",
    "print(lists)\n",
    "for num in lists:\n",
    "    if ((num%2)==1):\n",
    "        print (num, \"is an odd number\")"
   ]
  },
  {
   "cell_type": "code",
   "execution_count": null,
   "id": "65f9db39",
   "metadata": {},
   "outputs": [],
   "source": []
  }
 ],
 "metadata": {
  "kernelspec": {
   "display_name": "Python 3 (ipykernel)",
   "language": "python",
   "name": "python3"
  },
  "language_info": {
   "codemirror_mode": {
    "name": "ipython",
    "version": 3
   },
   "file_extension": ".py",
   "mimetype": "text/x-python",
   "name": "python",
   "nbconvert_exporter": "python",
   "pygments_lexer": "ipython3",
   "version": "3.11.5"
  }
 },
 "nbformat": 4,
 "nbformat_minor": 5
}
