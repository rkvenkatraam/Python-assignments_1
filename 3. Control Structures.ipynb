{
 "cells": [
  {
   "cell_type": "code",
   "execution_count": 12,
   "id": "b3c042e8",
   "metadata": {},
   "outputs": [
    {
     "name": "stdout",
     "output_type": "stream",
     "text": [
      "Enter the age : 15\n"
     ]
    }
   ],
   "source": [
    "age = int(input (\"Enter the age : \"))"
   ]
  },
  {
   "cell_type": "code",
   "execution_count": 13,
   "id": "3740cd62",
   "metadata": {},
   "outputs": [],
   "source": [
    "if(age>=18):\n",
    "    print(age,\"Adulte\")"
   ]
  },
  {
   "cell_type": "code",
   "execution_count": 14,
   "id": "985eeb8b",
   "metadata": {},
   "outputs": [],
   "source": [
    "if(age==18):\n",
    "    print(age,\"Adulte\")"
   ]
  },
  {
   "cell_type": "code",
   "execution_count": 15,
   "id": "ce489bee",
   "metadata": {},
   "outputs": [
    {
     "name": "stdout",
     "output_type": "stream",
     "text": [
      "Children\n"
     ]
    }
   ],
   "source": [
    "if (age < 18):\n",
    "    print (\"Children\")\n",
    "else:\n",
    "    print(\"Adult\")"
   ]
  },
  {
   "cell_type": "markdown",
   "id": "1f2b7af9",
   "metadata": {},
   "source": [
    "age<18--> Childeren\n",
    "age<35--> Adult\n",
    "age<60--> Citizen\n",
    "age>60--> SeniorCitizen"
   ]
  },
  {
   "cell_type": "code",
   "execution_count": 66,
   "id": "fbdb2eb2",
   "metadata": {},
   "outputs": [
    {
     "name": "stdout",
     "output_type": "stream",
     "text": [
      "Enter the age : 25\n"
     ]
    }
   ],
   "source": [
    "age = int(input (\"Enter the age : \"))"
   ]
  },
  {
   "cell_type": "code",
   "execution_count": 67,
   "id": "77880a2a",
   "metadata": {},
   "outputs": [
    {
     "name": "stdout",
     "output_type": "stream",
     "text": [
      "Adult\n"
     ]
    }
   ],
   "source": [
    "# if - elif\n",
    "if (age<18):\n",
    "    print (\"children\")\n",
    "elif(age<35):\n",
    "    print (\"Adult\")\n",
    "elif (age<60):\n",
    "    print (\"Citizen\")\n",
    "else:\n",
    "    print (\"SeniorCitizen\")"
   ]
  },
  {
   "cell_type": "code",
   "execution_count": 70,
   "id": "ff8e14aa",
   "metadata": {},
   "outputs": [
    {
     "ename": "IndentationError",
     "evalue": "unexpected indent (3571763644.py, line 2)",
     "output_type": "error",
     "traceback": [
      "\u001b[1;36m  Cell \u001b[1;32mIn[70], line 2\u001b[1;36m\u001b[0m\n\u001b[1;33m    for temp in mainvariable\u001b[0m\n\u001b[1;37m    ^\u001b[0m\n\u001b[1;31mIndentationError\u001b[0m\u001b[1;31m:\u001b[0m unexpected indent\n"
     ]
    }
   ],
   "source": [
    "#for loop\n",
    " for temp in mainvariable\n",
    "    print()"
   ]
  },
  {
   "cell_type": "code",
   "execution_count": 48,
   "id": "29dc00ce",
   "metadata": {},
   "outputs": [],
   "source": [
    "lists = [10,20,30,40,50,60]"
   ]
  },
  {
   "cell_type": "code",
   "execution_count": 73,
   "id": "63b10742",
   "metadata": {},
   "outputs": [
    {
     "name": "stdout",
     "output_type": "stream",
     "text": [
      "10\n",
      "20\n",
      "30\n",
      "40\n",
      "50\n",
      "60\n"
     ]
    }
   ],
   "source": [
    "lists = [10,20,30,40,50,60]\n",
    "for temp in lists:\n",
    "    print(temp)"
   ]
  },
  {
   "cell_type": "code",
   "execution_count": 49,
   "id": "eeb5906e",
   "metadata": {},
   "outputs": [
    {
     "name": "stdout",
     "output_type": "stream",
     "text": [
      "AGE = 10 children\n",
      "AGE = 20 Adult\n",
      "AGE = 30 Adult\n",
      "AGE = 40 Citizen\n",
      "AGE = 50 Citizen\n",
      "AGE = 60 SeniorCitizen\n"
     ]
    }
   ],
   "source": [
    "for age in lists:\n",
    "    if (age<18):\n",
    "        print (\"AGE =\",age,\"children\")\n",
    "    elif(age<35):\n",
    "        print (\"AGE =\",age,\"Adult\")\n",
    "    elif (age<60):\n",
    "        print (\"AGE =\",age,\"Citizen\")\n",
    "    else:\n",
    "        print (\"AGE =\",age,\"SeniorCitizen\")"
   ]
  },
  {
   "cell_type": "code",
   "execution_count": 56,
   "id": "c4c59613",
   "metadata": {},
   "outputs": [
    {
     "name": "stdout",
     "output_type": "stream",
     "text": [
      "2\n",
      "3\n",
      "4\n",
      "5\n",
      "6\n",
      "7\n",
      "8\n"
     ]
    }
   ],
   "source": [
    "\n",
    "#num = 4\n",
    "#num = int(input(\"Enter the number : \"))\n",
    "lists = [2,3,4,5,6,7,8]\n",
    "for num in lists:\n",
    "    print (num)\n",
    "    "
   ]
  },
  {
   "cell_type": "code",
   "execution_count": 61,
   "id": "25e7a3df",
   "metadata": {},
   "outputs": [
    {
     "name": "stdout",
     "output_type": "stream",
     "text": [
      "2 is even number\n",
      "3 is odd number\n",
      "4 is even number\n",
      "5 is odd number\n",
      "6 is even number\n",
      "7 is odd number\n",
      "8 is even number\n"
     ]
    }
   ],
   "source": [
    "for num in lists: \n",
    "    if ((num%2)==0):\n",
    "        print ( num,\"is even number\")\n",
    "    else:\n",
    "        print (num,\"is odd number\")\n"
   ]
  },
  {
   "cell_type": "code",
   "execution_count": 69,
   "id": "3b2e1b3e",
   "metadata": {},
   "outputs": [
    {
     "name": "stdout",
     "output_type": "stream",
     "text": [
      "1\n",
      "3\n",
      "5\n",
      "7\n",
      "9\n",
      "11\n",
      "13\n",
      "15\n",
      "17\n",
      "19\n",
      "21\n",
      "23\n",
      "25\n",
      "27\n",
      "29\n",
      "31\n",
      "33\n",
      "35\n",
      "37\n",
      "39\n",
      "41\n",
      "43\n",
      "45\n",
      "47\n",
      "49\n",
      "51\n",
      "53\n",
      "55\n",
      "57\n",
      "59\n",
      "61\n",
      "63\n",
      "65\n",
      "67\n",
      "69\n",
      "71\n",
      "73\n",
      "75\n",
      "77\n",
      "79\n",
      "81\n",
      "83\n",
      "85\n",
      "87\n",
      "89\n",
      "91\n",
      "93\n",
      "95\n",
      "97\n",
      "99\n"
     ]
    }
   ],
   "source": [
    "for num in range (1,100,2):\n",
    "    print(num)"
   ]
  },
  {
   "cell_type": "code",
   "execution_count": null,
   "id": "56f77c3b",
   "metadata": {},
   "outputs": [],
   "source": []
  }
 ],
 "metadata": {
  "kernelspec": {
   "display_name": "Python 3 (ipykernel)",
   "language": "python",
   "name": "python3"
  },
  "language_info": {
   "codemirror_mode": {
    "name": "ipython",
    "version": 3
   },
   "file_extension": ".py",
   "mimetype": "text/x-python",
   "name": "python",
   "nbconvert_exporter": "python",
   "pygments_lexer": "ipython3",
   "version": "3.11.5"
  }
 },
 "nbformat": 4,
 "nbformat_minor": 5
}
