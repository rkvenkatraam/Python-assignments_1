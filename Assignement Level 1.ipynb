{
 "cells": [
  {
   "cell_type": "code",
   "execution_count": 1,
   "id": "651256f3",
   "metadata": {},
   "outputs": [
    {
     "name": "stdout",
     "output_type": "stream",
     "text": [
      "HOPE AI\n"
     ]
    }
   ],
   "source": [
    "print (\"HOPE AI\")"
   ]
  },
  {
   "cell_type": "code",
   "execution_count": 5,
   "id": "d5b72e37",
   "metadata": {},
   "outputs": [
    {
     "name": "stdout",
     "output_type": "stream",
     "text": [
      "Enter your institute name ? : HOPE AI\n"
     ]
    }
   ],
   "source": [
    "Inst = input(\"Enter your institute name ? : \")"
   ]
  },
  {
   "cell_type": "code",
   "execution_count": 45,
   "id": "b7e71aa9",
   "metadata": {},
   "outputs": [
    {
     "name": "stdout",
     "output_type": "stream",
     "text": [
      "Enter Your Name = venkat\n",
      "Enter Your Age = 46\n",
      "Enter Your School Name = guru\n",
      "Enter Your Highest Degree = msit\n"
     ]
    }
   ],
   "source": [
    "Name = input(\"Enter Your Name = \")\n",
    "Age = int(input(\"Enter Your Age = \"))\n",
    "School = input(\"Enter Your School Name = \")\n",
    "Degree = input(\"Enter Your Highest Degree = \")"
   ]
  },
  {
   "cell_type": "code",
   "execution_count": 10,
   "id": "c9c1f742",
   "metadata": {},
   "outputs": [
    {
     "name": "stdout",
     "output_type": "stream",
     "text": [
      "a =  10\n",
      "b =  20\n",
      "sum =  30\n"
     ]
    }
   ],
   "source": [
    "#Addition\n",
    "a = 10\n",
    "b = 20\n",
    "sum = a+b\n",
    "print(\"a = \", a)\n",
    "print(\"b = \", b)\n",
    "print (\"sum = \", sum)"
   ]
  },
  {
   "cell_type": "code",
   "execution_count": 11,
   "id": "7ba850ee",
   "metadata": {},
   "outputs": [
    {
     "name": "stdout",
     "output_type": "stream",
     "text": [
      "a =  10\n",
      "b =  20\n",
      "sub =  -10\n"
     ]
    }
   ],
   "source": [
    "#substraction\n",
    "a = 10\n",
    "b = 20\n",
    "sub = a-b\n",
    "print(\"a = \", a)\n",
    "print(\"b = \", b)\n",
    "print (\"sub = \", sub)"
   ]
  },
  {
   "cell_type": "code",
   "execution_count": 13,
   "id": "f648ffba",
   "metadata": {},
   "outputs": [
    {
     "name": "stdout",
     "output_type": "stream",
     "text": [
      "a =  10\n",
      "b =  20\n",
      "mul =  200\n"
     ]
    }
   ],
   "source": [
    "#Multiplication\n",
    "a = 10\n",
    "b = 20\n",
    "mul = a*b\n",
    "print(\"a = \", a)\n",
    "print(\"b = \", b)\n",
    "print (\"mul = \", mul)"
   ]
  },
  {
   "cell_type": "code",
   "execution_count": 46,
   "id": "5978eedf",
   "metadata": {},
   "outputs": [
    {
     "name": "stdout",
     "output_type": "stream",
     "text": [
      "a =  110\n",
      "b =  23\n",
      "Float Division =  4.782608695652174\n"
     ]
    }
   ],
   "source": [
    "#float Division\n",
    "a = 110\n",
    "b = 23\n",
    "FloatDiv = a/b\n",
    "print(\"a = \", a)\n",
    "print(\"b = \", b)\n",
    "print (\"Float Division = \", FloatDiv)"
   ]
  },
  {
   "cell_type": "code",
   "execution_count": 47,
   "id": "7608f8d7",
   "metadata": {},
   "outputs": [
    {
     "name": "stdout",
     "output_type": "stream",
     "text": [
      "a =  110\n",
      "b =  23\n",
      "Floor Division =  4\n"
     ]
    }
   ],
   "source": [
    "#floor Division\n",
    "a = 110\n",
    "FloorDiv = a//b\n",
    "b = 23\n",
    "print(\"a = \", a)\n",
    "print(\"b = \", b)\n",
    "print (\"Floor Division = \", FloorDiv)"
   ]
  },
  {
   "cell_type": "code",
   "execution_count": 48,
   "id": "ec988008",
   "metadata": {},
   "outputs": [
    {
     "name": "stdout",
     "output_type": "stream",
     "text": [
      "a =  110\n",
      "b =  23\n",
      "Modulo =  18\n"
     ]
    }
   ],
   "source": [
    "#Modulo Division - reminder\n",
    "a = 110\n",
    "b = 23\n",
    "Modulo = a%b\n",
    "print(\"a = \", a)\n",
    "print(\"b = \", b)\n",
    "print (\"Modulo = \", Modulo)"
   ]
  },
  {
   "cell_type": "code",
   "execution_count": 30,
   "id": "27596edb",
   "metadata": {},
   "outputs": [
    {
     "name": "stdout",
     "output_type": "stream",
     "text": [
      "a =  4\n",
      "b =  2\n",
      "Power =  16\n"
     ]
    }
   ],
   "source": [
    "#Power\n",
    "a = 4\n",
    "b = 2\n",
    "Power = a**b\n",
    "print(\"a = \", a)\n",
    "print(\"b = \", b)\n",
    "print (\"Power = \", Power)"
   ]
  },
  {
   "cell_type": "code",
   "execution_count": null,
   "id": "484c53f5",
   "metadata": {},
   "outputs": [],
   "source": []
  }
 ],
 "metadata": {
  "kernelspec": {
   "display_name": "Python 3 (ipykernel)",
   "language": "python",
   "name": "python3"
  },
  "language_info": {
   "codemirror_mode": {
    "name": "ipython",
    "version": 3
   },
   "file_extension": ".py",
   "mimetype": "text/x-python",
   "name": "python",
   "nbconvert_exporter": "python",
   "pygments_lexer": "ipython3",
   "version": "3.11.5"
  }
 },
 "nbformat": 4,
 "nbformat_minor": 5
}
