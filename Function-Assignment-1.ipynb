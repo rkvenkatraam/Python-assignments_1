{
 "cells": [
  {
   "cell_type": "code",
   "execution_count": 1,
   "id": "45d24b0a",
   "metadata": {},
   "outputs": [],
   "source": [
    "def subfields():\n",
    "    subfieldsInAI =[\"Machine Learning\",\"Neural Networks\",\"Vision\",\"Robotics\",\"Speech Processing\",\"Natural Language Processing\"]\n",
    "    for fields in subfieldsInAI:\n",
    "        print(fields)\n",
    "        fields = subfieldsInAI\n",
    "    return fields"
   ]
  },
  {
   "cell_type": "code",
   "execution_count": 2,
   "id": "07bd2344",
   "metadata": {},
   "outputs": [
    {
     "name": "stdout",
     "output_type": "stream",
     "text": [
      "Machine Learning\n",
      "Neural Networks\n",
      "Vision\n",
      "Robotics\n",
      "Speech Processing\n",
      "Natural Language Processing\n"
     ]
    },
    {
     "data": {
      "text/plain": [
       "['Machine Learning',\n",
       " 'Neural Networks',\n",
       " 'Vision',\n",
       " 'Robotics',\n",
       " 'Speech Processing',\n",
       " 'Natural Language Processing']"
      ]
     },
     "execution_count": 2,
     "metadata": {},
     "output_type": "execute_result"
    }
   ],
   "source": [
    "subfields()"
   ]
  },
  {
   "cell_type": "code",
   "execution_count": 3,
   "id": "12156482",
   "metadata": {},
   "outputs": [
    {
     "name": "stdout",
     "output_type": "stream",
     "text": [
      "Enter The number : 10\n",
      "10 is Even number\n"
     ]
    }
   ],
   "source": [
    "def oddEven():\n",
    "    num = int(input(\"Enter The number : \"))\n",
    "    if(num%2==0):\n",
    "        print(num, \"is Even number\")\n",
    "        msg = num, \"is Even number\"\n",
    "    else:\n",
    "        print(num, \"is Odd number\")\n",
    "        msg = num, \"is Odd number\"\n",
    "    #return msg\n",
    "oddEven()"
   ]
  },
  {
   "cell_type": "code",
   "execution_count": 4,
   "id": "3c176a99",
   "metadata": {},
   "outputs": [
    {
     "name": "stdout",
     "output_type": "stream",
     "text": [
      "Enter your gender : 20\n",
      "Enter your age : 25\n",
      "NOT ELIGIBLE\n"
     ]
    }
   ],
   "source": [
    "def eligible():\n",
    "    gender = input(\"Enter your gender : \")\n",
    "    age = int(input(\"Enter your age : \"))\n",
    "    if (gender==\"male\" and age>20):\n",
    "        print(\"ELIGIBLE\")\n",
    "    elif (gender==\"female\" and age>17):\n",
    "        print(\"ELIGIBLE\")\n",
    "    else:\n",
    "        print(\"NOT ELIGIBLE\")\n",
    "eligible()"
   ]
  },
  {
   "cell_type": "code",
   "execution_count": 5,
   "id": "15e6ac85",
   "metadata": {},
   "outputs": [
    {
     "name": "stdout",
     "output_type": "stream",
     "text": [
      "Subject1 : 10\n",
      "Subject2 : 20\n",
      "Subject3 : 30\n",
      "Subject4 : 50\n",
      "Subject5 : 40\n",
      "Total :  150\n",
      "Percentage :  30.0\n",
      "Result : FAIL\n"
     ]
    }
   ],
   "source": [
    "def percentage():\n",
    "    subject1 = int(input(\"Subject1 : \"))\n",
    "    subject2 = int(input(\"Subject2 : \"))\n",
    "    subject3 = int(input(\"Subject3 : \"))\n",
    "    subject4 = int(input(\"Subject4 : \"))\n",
    "    subject5 = int(input(\"Subject5 : \"))\n",
    "    Total = subject1 + subject2 + subject3 + subject4 + subject5\n",
    "    print (\"Total : \",Total)\n",
    "    Percent = (Total/5)\n",
    "    print(\"Percentage : \",Percent)\n",
    "    if ((subject1 or subject2 or subject3 or subject4 or subject)>=35):\n",
    "        print (\"Result : PASS\")\n",
    "    else:\n",
    "        print (\"Result : FAIL\")\n",
    "percentage()\n",
    "    "
   ]
  },
  {
   "cell_type": "code",
   "execution_count": 6,
   "id": "4e0c5926",
   "metadata": {},
   "outputs": [
    {
     "name": "stdout",
     "output_type": "stream",
     "text": [
      "Subject1 : 12\n",
      "Subject2 : 78\n",
      "Subject3 : 56\n",
      "Subject4 : 89\n",
      "Subject5 : 56\n",
      "Total :  291\n",
      "Percentage :  58.2\n",
      "Result : FAIL\n"
     ]
    }
   ],
   "source": [
    "percentage()\n"
   ]
  },
  {
   "cell_type": "code",
   "execution_count": 8,
   "id": "e0f3cd96",
   "metadata": {},
   "outputs": [
    {
     "name": "stdout",
     "output_type": "stream",
     "text": [
      "Entre the Height of the Triangle : 10\n",
      "Entre the Breadth of the Triangle : 20\n",
      "Height : 10\n",
      "Breadth : 20\n",
      "Area of Triangle Formula :  (Height*Breadth)/2\n",
      "Area of Triangle : 100.0\n",
      "Entre the Height1 of the Triangle : 10\n",
      "Entre the Height2 of the Triangle : 20\n",
      "Entre the Breadth of the Triangle : 30\n",
      "Height1 : 10\n",
      "Height2 : 20\n",
      "Breadth1 : 30\n",
      "Perimeter of Triangle Formula :  Height1*+ Height2 + Breadth1\n",
      "Perimeter of Triangle :  60\n"
     ]
    }
   ],
   "source": [
    "def areaTriangle():\n",
    "    Height = int(input(\"Entre the Height of the Triangle : \"))\n",
    "    Breadth = int(input(\"Entre the Breadth of the Triangle : \"))\n",
    "    Area_Of_Triangle = (Height*Breadth)/2\n",
    "    print (\"Height :\", Height )\n",
    "    print (\"Breadth :\", Breadth)\n",
    "    print (\"Area of Triangle Formula : \", \"(Height*Breadth)/2\")\n",
    "    print (\"Area of Triangle :\", Area_Of_Triangle)\n",
    "      \n",
    "def perimeterTriangle():\n",
    "    Height1 = int(input(\"Entre the Height1 of the Triangle : \"))\n",
    "    Height2 = int(input(\"Entre the Height2 of the Triangle : \"))\n",
    "    Breadth1 = int(input(\"Entre the Breadth of the Triangle : \"))\n",
    "    Perimeter_Of_Triangle = Height1 + Height2 + Breadth1\n",
    "    print (\"Height1 :\", Height1 )\n",
    "    print (\"Height2 :\", Height2 )\n",
    "    print (\"Breadth1 :\", Breadth1 )\n",
    "    print (\"Perimeter of Triangle Formula : \", \"Height1*+ Height2 + Breadth1\")\n",
    "    print (\"Perimeter of Triangle : \", Perimeter_Of_Triangle)\n",
    "    \n",
    "areaTriangle()\n",
    "perimeterTriangle()\n",
    "\n"
   ]
  },
  {
   "cell_type": "code",
   "execution_count": null,
   "id": "11a76a8d",
   "metadata": {},
   "outputs": [],
   "source": []
  },
  {
   "cell_type": "code",
   "execution_count": null,
   "id": "9dd19b4e",
   "metadata": {},
   "outputs": [],
   "source": []
  }
 ],
 "metadata": {
  "kernelspec": {
   "display_name": "Python 3 (ipykernel)",
   "language": "python",
   "name": "python3"
  },
  "language_info": {
   "codemirror_mode": {
    "name": "ipython",
    "version": 3
   },
   "file_extension": ".py",
   "mimetype": "text/x-python",
   "name": "python",
   "nbconvert_exporter": "python",
   "pygments_lexer": "ipython3",
   "version": "3.11.5"
  }
 },
 "nbformat": 4,
 "nbformat_minor": 5
}
