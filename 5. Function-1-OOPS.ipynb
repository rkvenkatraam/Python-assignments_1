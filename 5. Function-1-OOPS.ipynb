{
 "cells": [
  {
   "cell_type": "code",
   "execution_count": null,
   "id": "a52d4830",
   "metadata": {},
   "outputs": [],
   "source": [
    "def AgeCategory():\n",
    "        if (age<18):\n",
    "            print (\"AGE =\",age,\"children\")\n",
    "            cate = \"children\"\n",
    "        elif(age<35):\n",
    "            print (\"AGE =\",age,\"Adult\")\n",
    "            cate = \"Adult\"\n",
    "        elif (age<60):\n",
    "            print (\"AGE =\",age,\"Citizen\")\n",
    "            cate = \"Citizen\"\n",
    "        else:\n",
    "            print (\"AGE =\",age,\"SeniorCitizen\")\n",
    "            cate = \"SeniorCitizen\"\n",
    "        return cate\n"
   ]
  },
  {
   "cell_type": "code",
   "execution_count": null,
   "id": "e5d5f871",
   "metadata": {},
   "outputs": [],
   "source": [
    "age = int(input(\"Enter your age : \"))\n",
    "agecate = AgeCategory()\n",
    "agecate\n",
    "print(agecate)"
   ]
  },
  {
   "cell_type": "code",
   "execution_count": null,
   "id": "a6d8526d",
   "metadata": {},
   "outputs": [],
   "source": [
    "print(agecate)"
   ]
  },
  {
   "cell_type": "code",
   "execution_count": null,
   "id": "7d1b6302",
   "metadata": {},
   "outputs": [],
   "source": [
    "agecate"
   ]
  },
  {
   "cell_type": "code",
   "execution_count": null,
   "id": "40424f2d",
   "metadata": {},
   "outputs": [],
   "source": [
    "# with out return \n",
    "def AgeCategoryNORT():\n",
    "        if (age<18):\n",
    "            print (\"AGE =\",age,\"children\")\n",
    "            cate = \"children\"\n",
    "        elif(age<35):\n",
    "            print (\"AGE =\",age,\"Adult\")\n",
    "            cate = \"Adult\"\n",
    "        elif (age<60):\n",
    "            print (\"AGE =\",age,\"Citizen\")\n",
    "            cate = \"Citizen\"\n",
    "        else:\n",
    "            print (\"AGE =\",age,\"SeniorCitizen\")\n",
    "            cate = \"SeniorCitizen\"\n",
    "       "
   ]
  },
  {
   "cell_type": "code",
   "execution_count": null,
   "id": "09d133b9",
   "metadata": {},
   "outputs": [],
   "source": [
    "age = int(input(\"Enter your age : \"))\n",
    "agecateg = AgeCategoryNORT()\n"
   ]
  },
  {
   "cell_type": "code",
   "execution_count": null,
   "id": "f9bcc108",
   "metadata": {},
   "outputs": [],
   "source": [
    "print(agecateg)"
   ]
  },
  {
   "cell_type": "code",
   "execution_count": null,
   "id": "4cf53208",
   "metadata": {},
   "outputs": [],
   "source": [
    "age = int(input(\"Enter your age : \"))\n",
    "agecate1 = AgeCategory()\n",
    "agecate1"
   ]
  },
  {
   "cell_type": "code",
   "execution_count": null,
   "id": "1cfda6ec",
   "metadata": {},
   "outputs": [],
   "source": [
    "print (agecate1)"
   ]
  },
  {
   "cell_type": "code",
   "execution_count": null,
   "id": "d7d08758",
   "metadata": {},
   "outputs": [],
   "source": [
    "age = int(input(\"Enter your age : \"))\n",
    "agecate2 = AgeCategory()"
   ]
  },
  {
   "cell_type": "code",
   "execution_count": null,
   "id": "e2d050be",
   "metadata": {},
   "outputs": [],
   "source": [
    "agecate1"
   ]
  },
  {
   "cell_type": "code",
   "execution_count": null,
   "id": "8393f0f1",
   "metadata": {},
   "outputs": [],
   "source": [
    " def oddEven():\n",
    "    num = int(input(\"Enter your Number : \"))\n",
    "    if ((num%2)==0):\n",
    "        print (num,\"is even number\")\n",
    "        message = \"Even Number\"\n",
    "    else:\n",
    "        print (num,\"is odd number\")\n",
    "        message = \"Odd Number\"\n",
    "    return message\n",
    "\n"
   ]
  },
  {
   "cell_type": "code",
   "execution_count": null,
   "id": "cd26eece",
   "metadata": {},
   "outputs": [],
   "source": [
    "message1 = oddEven()"
   ]
  },
  {
   "cell_type": "code",
   "execution_count": null,
   "id": "2671af8b",
   "metadata": {},
   "outputs": [],
   "source": [
    "if(message1==\"Even Number\"):\n",
    "    print (\"The given number is Even Number\")\n",
    "else:\n",
    "    print (\"The given number is Odd Number\")"
   ]
  },
  {
   "cell_type": "code",
   "execution_count": 3,
   "id": "f9da01b6",
   "metadata": {},
   "outputs": [
    {
     "name": "stdout",
     "output_type": "stream",
     "text": [
      "Enter your Age = 45\n",
      "Enter your Height in mts= 1.75\n",
      "Enter your Weight in kgs= 82\n",
      "Your BMI is 26.78 and you are Heavy Weight for your age\n"
     ]
    },
    {
     "data": {
      "text/plain": [
       "('Your BMI is', 26.78, 'and you are Heavy weight for your age ')"
      ]
     },
     "execution_count": 3,
     "metadata": {},
     "output_type": "execute_result"
    }
   ],
   "source": [
    "def BMI():\n",
    "    Age = int(input(\"Enter your Age = \"))\n",
    "    Height = float(input(\"Enter your Height in mts= \"))\n",
    "    Weight = float(input(\"Enter your Weight in kgs= \"))\n",
    "    HeightSquare = Height*Height\n",
    "    BMI = round (Weight/HeightSquare,2)\n",
    "    if (BMI<18.5):\n",
    "        print(\"Your BMI is\", BMI, \"and you are Under weight for your age \")\n",
    "        Bmessage = \"Your BMI is\", BMI, \"and you are Under weight for your age \"\n",
    "    elif (BMI<25):\n",
    "        print(\"Your BMI is\", BMI, \"and you are Normal weight for your age \")\n",
    "        Bmessage = \"Your BMI is\", BMI, \"and you are Normal weight for your age \"\n",
    "    elif (BMI<30):\n",
    "        print(\"Your BMI is\", BMI, \"and you are Heavy Weight for your age\")\n",
    "        Bmessage = \"Your BMI is\", BMI, \"and you are Heavy weight for your age \"\n",
    "    elif (BMI<35):\n",
    "        print(\"Your BMI is\", BMI, \"and you are Obesity class 1 for your age\")\n",
    "        Bmessage = \"Your BMI is\", BMI, \"and you are Obesity class 1 for your age \"\n",
    "    elif (BMI<40):\n",
    "        print(\"Your BMI is\", BMI, \"and you are Obesity class 2 for your age\")\n",
    "        Bmessage = \"Your BMI is\", BMI, \"and you are Obesity class 2 for your age \"\n",
    "    else:\n",
    "        print(\"Your BMI is\", BMI, \"and you are Obesity class 3 for your age\")\n",
    "        Bmessage = \"Your BMI is\", BMI, \"and you are Obesity class 3 for your age \"\n",
    "    return Bmessage\n",
    "BMI()"
   ]
  },
  {
   "cell_type": "code",
   "execution_count": 6,
   "id": "f334be53",
   "metadata": {},
   "outputs": [
    {
     "name": "stdout",
     "output_type": "stream",
     "text": [
      "Enter your Age = 45\n",
      "Enter your Height in mts= 1.75\n",
      "Enter your Weight in kgs= 80\n",
      "Your BMI is 26.12 and you are Heavy Weight for your age\n"
     ]
    }
   ],
   "source": [
    "bmi = BMI()"
   ]
  },
  {
   "cell_type": "code",
   "execution_count": 7,
   "id": "c255783e",
   "metadata": {},
   "outputs": [
    {
     "data": {
      "text/plain": [
       "('Your BMI is', 26.12, 'and you are Heavy weight for your age ')"
      ]
     },
     "execution_count": 7,
     "metadata": {},
     "output_type": "execute_result"
    }
   ],
   "source": [
    "bmi"
   ]
  },
  {
   "cell_type": "code",
   "execution_count": 9,
   "id": "018e68f4",
   "metadata": {},
   "outputs": [],
   "source": [
    "def addition(num1,num2):\n",
    "    add = num1+num2\n",
    "    return add"
   ]
  },
  {
   "cell_type": "code",
   "execution_count": 10,
   "id": "7ddceeee",
   "metadata": {},
   "outputs": [
    {
     "data": {
      "text/plain": [
       "7"
      ]
     },
     "execution_count": 10,
     "metadata": {},
     "output_type": "execute_result"
    }
   ],
   "source": [
    "addition(5,2)"
   ]
  },
  {
   "cell_type": "code",
   "execution_count": 14,
   "id": "052c64ca",
   "metadata": {},
   "outputs": [],
   "source": [
    "def addition(num1,num2):\n",
    "    num1 = int(input(\"Enter the first number : \"))\n",
    "    num2 = int(input(\"Enter the second number : \"))\n",
    "    add = num1+num2\n",
    "    return add"
   ]
  },
  {
   "cell_type": "code",
   "execution_count": 13,
   "id": "0b07d15c",
   "metadata": {},
   "outputs": [
    {
     "ename": "NameError",
     "evalue": "name 'num1' is not defined",
     "output_type": "error",
     "traceback": [
      "\u001b[1;31m---------------------------------------------------------------------------\u001b[0m",
      "\u001b[1;31mNameError\u001b[0m                                 Traceback (most recent call last)",
      "Cell \u001b[1;32mIn[13], line 1\u001b[0m\n\u001b[1;32m----> 1\u001b[0m addition(num1,num2)\n",
      "\u001b[1;31mNameError\u001b[0m: name 'num1' is not defined"
     ]
    }
   ],
   "source": [
    "addition(num1,num2)"
   ]
  },
  {
   "cell_type": "code",
   "execution_count": null,
   "id": "492ef988",
   "metadata": {},
   "outputs": [],
   "source": []
  }
 ],
 "metadata": {
  "kernelspec": {
   "display_name": "Python 3 (ipykernel)",
   "language": "python",
   "name": "python3"
  },
  "language_info": {
   "codemirror_mode": {
    "name": "ipython",
    "version": 3
   },
   "file_extension": ".py",
   "mimetype": "text/x-python",
   "name": "python",
   "nbconvert_exporter": "python",
   "pygments_lexer": "ipython3",
   "version": "3.11.5"
  }
 },
 "nbformat": 4,
 "nbformat_minor": 5
}
