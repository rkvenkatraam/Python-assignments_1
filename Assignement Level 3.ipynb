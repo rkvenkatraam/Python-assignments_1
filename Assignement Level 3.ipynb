{
 "cells": [
  {
   "cell_type": "code",
   "execution_count": 2,
   "id": "a43d7a43",
   "metadata": {},
   "outputs": [
    {
     "name": "stdout",
     "output_type": "stream",
     "text": [
      "Value = 10\n",
      "CORRECT\n"
     ]
    }
   ],
   "source": [
    "i=int(input(\"Value = \"))\n",
    "if i==10:\n",
    "    print(\"CORRECT\")\n"
   ]
  },
  {
   "cell_type": "code",
   "execution_count": 3,
   "id": "430b1b18",
   "metadata": {},
   "outputs": [
    {
     "name": "stdout",
     "output_type": "stream",
     "text": [
      "ENTER the password = 35463\n",
      "Your password is not correct\n"
     ]
    }
   ],
   "source": [
    "pwd = input(\"ENTER the password = \")\n",
    "if pwd == \"HOPE@123\":\n",
    "    print (\"Your password is correct\")\n",
    "else:\n",
    "    print (\"Your password is not correct\")"
   ]
  },
  {
   "cell_type": "code",
   "execution_count": null,
   "id": "d30b7c34",
   "metadata": {},
   "outputs": [],
   "source": [
    "age = int(input(\"Enter your age = \"))\n",
    "if(age<18):\n",
    "    print (\"AGE =\",age,\"children\")\n",
    "elif(age<35):\n",
    "    print (\"AGE =\",age,\"Adult\")\n",
    "elif(age<60):\n",
    "        print (\"AGE =\",age,\"Citizen\")\n",
    "else:\n",
    "    print(\"AGE =\",age,\"SeniorCitizen\") \n",
    "   "
   ]
  },
  {
   "cell_type": "code",
   "execution_count": null,
   "id": "4e022adb",
   "metadata": {},
   "outputs": [],
   "source": [
    "N = int(input(\"Enter the number = : \"))\n",
    "print (N)\n",
    "if (N>=0):\n",
    "    print (\"The given number is a positive number\")\n",
    "else:\n",
    "    print (\"The given number is a Negative number\")\n",
    "    "
   ]
  },
  {
   "cell_type": "code",
   "execution_count": 6,
   "id": "e9ec0239",
   "metadata": {},
   "outputs": [
    {
     "name": "stdout",
     "output_type": "stream",
     "text": [
      "Enter the number = : 22\n",
      "The given number is not divisible by 5\n"
     ]
    }
   ],
   "source": [
    "N = int(input(\"Enter the number = : \"))\n",
    "#if ((N%5)==0):\n",
    "if (N%5 == 0):\n",
    "    print (\"The given number is a divisible by 5\")\n",
    "else:\n",
    "    print (\"The given number is not divisible by 5\")\n",
    "    "
   ]
  },
  {
   "cell_type": "code",
   "execution_count": null,
   "id": "37408e7e",
   "metadata": {},
   "outputs": [],
   "source": []
  },
  {
   "cell_type": "code",
   "execution_count": null,
   "id": "9b9c4a89",
   "metadata": {},
   "outputs": [],
   "source": []
  }
 ],
 "metadata": {
  "kernelspec": {
   "display_name": "Python 3 (ipykernel)",
   "language": "python",
   "name": "python3"
  },
  "language_info": {
   "codemirror_mode": {
    "name": "ipython",
    "version": 3
   },
   "file_extension": ".py",
   "mimetype": "text/x-python",
   "name": "python",
   "nbconvert_exporter": "python",
   "pygments_lexer": "ipython3",
   "version": "3.11.5"
  }
 },
 "nbformat": 4,
 "nbformat_minor": 5
}
